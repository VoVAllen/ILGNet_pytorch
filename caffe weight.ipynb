{
 "cells": [
  {
   "cell_type": "code",
   "execution_count": 1,
   "metadata": {},
   "outputs": [],
   "source": [
    "import numpy as np\n",
    "import caffe"
   ]
  },
  {
   "cell_type": "code",
   "execution_count": 2,
   "metadata": {},
   "outputs": [],
   "source": [
    "net=caffe.Net('./ILGnet/ILGnet/deploy.prototxt','./ILGnet-AVA2.caffemodel',caffe.TEST)"
   ]
  },
  {
   "cell_type": "code",
   "execution_count": 3,
   "metadata": {},
   "outputs": [
    {
     "data": {
      "text/plain": [
       "(64, 3, 7, 7)"
      ]
     },
     "execution_count": 3,
     "metadata": {},
     "output_type": "execute_result"
    }
   ],
   "source": [
    "net.params['conv1/7x7_s2'][0].data.shape"
   ]
  },
  {
   "cell_type": "code",
   "execution_count": 28,
   "metadata": {},
   "outputs": [
    {
     "data": {
      "text/plain": [
       "array([[[[  9.12884995e-02,   3.97311971e-02,   5.06255142e-02, ...,\n",
       "            1.61013961e-01,   2.31022257e-02,   1.86063990e-03],\n",
       "         [  5.71632683e-02,   2.25322247e-02,   1.10429756e-01, ...,\n",
       "            1.23298056e-02,  -1.89246699e-01,  -1.35100946e-01],\n",
       "         [  2.21094601e-02,   5.87186329e-02,   1.55423254e-01, ...,\n",
       "           -3.17079633e-01,  -3.87322903e-01,  -1.94282934e-01],\n",
       "         ..., \n",
       "         [  1.00235501e-02,  -3.21078151e-02,  -1.14950053e-01, ...,\n",
       "           -4.94963974e-01,  -2.45081410e-01,   2.49740407e-01],\n",
       "         [ -3.45193818e-02,  -4.23532613e-02,  -1.28181487e-01, ...,\n",
       "           -1.21103495e-01,   3.00178617e-01,   5.04824221e-01],\n",
       "         [ -3.51762050e-03,  -2.64530480e-02,  -6.73996285e-02, ...,\n",
       "            1.59609824e-01,   4.11888748e-01,   4.03796047e-01]],\n",
       "\n",
       "        [[ -2.53729880e-01,  -1.49716109e-01,  -4.00587581e-02, ...,\n",
       "            1.53257817e-01,   1.48142904e-01,   6.89057037e-02],\n",
       "         [ -1.21893466e-01,  -4.25185338e-02,   1.16284549e-01, ...,\n",
       "            2.53438234e-01,   1.88916549e-01,   7.85401836e-02],\n",
       "         [ -4.13919427e-02,   9.86350998e-02,   2.57351995e-01, ...,\n",
       "            2.27867290e-01,   2.50934213e-01,   9.07048583e-02],\n",
       "         ..., \n",
       "         [  1.02101274e-01,   1.26635939e-01,   1.38675123e-01, ...,\n",
       "            5.83600067e-03,  -1.93906859e-01,  -1.89033687e-01],\n",
       "         [  6.88190609e-02,   9.32988152e-02,   5.95015660e-02, ...,\n",
       "           -1.65028021e-01,  -1.97898492e-01,  -2.13637784e-01],\n",
       "         [  5.07349595e-02,   2.29888838e-02,  -2.06971709e-02, ...,\n",
       "           -1.74573109e-01,  -2.49448001e-01,  -3.03919494e-01]],\n",
       "\n",
       "        [[  2.24622861e-01,   1.50073320e-01,  -4.20029499e-02, ...,\n",
       "           -2.67825603e-01,  -1.20348394e-01,  -4.90298122e-02],\n",
       "         [  7.53632337e-02,  -7.75219873e-02,  -2.66098887e-01, ...,\n",
       "           -3.69541883e-01,  -9.98417512e-02,  -1.22805918e-03],\n",
       "         [ -4.53842543e-02,  -1.39260516e-01,  -2.74201274e-01, ...,\n",
       "           -1.05101824e-01,   2.85314113e-01,   1.99526891e-01],\n",
       "         ..., \n",
       "         [ -8.37337673e-02,  -1.52831897e-01,  -8.27737376e-02, ...,\n",
       "            4.29992974e-01,   1.43970504e-01,  -8.82167667e-02],\n",
       "         [ -4.28480655e-02,  -3.49121727e-02,   4.18833569e-02, ...,\n",
       "            1.72769785e-01,  -6.62102997e-02,  -1.67798609e-01],\n",
       "         [ -2.93004680e-02,  -1.57461949e-02,   6.63688481e-02, ...,\n",
       "            3.05477455e-02,  -1.31163433e-01,  -1.14847817e-01]]],\n",
       "\n",
       "\n",
       "       [[[ -1.30575851e-01,   1.07484728e-01,   1.67003512e-01, ...,\n",
       "           -7.64623284e-03,   1.87221467e-02,   6.15098812e-02],\n",
       "         [ -2.51224101e-01,  -3.09789628e-01,  -3.25507104e-01, ...,\n",
       "            7.94244185e-02,   5.33810109e-02,   4.74070534e-02],\n",
       "         [ -3.39214802e-01,  -2.13736624e-01,   9.70512722e-03, ...,\n",
       "           -6.57954663e-02,  -2.25745700e-02,   2.39948351e-02],\n",
       "         ..., \n",
       "         [  1.57135855e-02,   6.47265539e-02,   9.29801837e-02, ...,\n",
       "            4.61771758e-03,   1.52191147e-02,   2.13008821e-02],\n",
       "         [  2.90726796e-02,   2.87919976e-02,   6.04172528e-04, ...,\n",
       "            4.51206882e-03,  -1.54003883e-02,  -1.48631295e-03],\n",
       "         [  7.38261035e-04,   3.88323376e-03,   1.86507795e-02, ...,\n",
       "           -1.25488145e-02,  -5.07283909e-03,  -5.90256415e-03]],\n",
       "\n",
       "        [[ -3.97149511e-02,   1.14827625e-01,   1.50804266e-01, ...,\n",
       "           -6.87204152e-02,  -4.72996980e-02,  -3.59544270e-02],\n",
       "         [ -1.97810575e-01,  -3.34516674e-01,  -3.83756101e-01, ...,\n",
       "            2.28265207e-02,   1.06403034e-03,  -3.21471617e-02],\n",
       "         [ -2.97264785e-01,  -2.06173360e-01,  -9.84350452e-04, ...,\n",
       "           -1.04727775e-01,  -5.34205511e-02,  -3.12548839e-02],\n",
       "         ..., \n",
       "         [  1.78509112e-02,   2.17928998e-02,   6.09012023e-02, ...,\n",
       "            4.09455551e-03,   1.71679109e-02,  -5.64457523e-03],\n",
       "         [  4.85024452e-02,   1.91646460e-02,   1.08631160e-02, ...,\n",
       "            4.07193191e-02,   3.71868722e-02,   3.40398625e-02],\n",
       "         [  4.71789837e-02,   3.31665091e-02,   7.05972761e-02, ...,\n",
       "            5.45321777e-02,   7.04716370e-02,   5.51205240e-02]],\n",
       "\n",
       "        [[  1.11592978e-01,   2.28779927e-01,   2.23766595e-01, ...,\n",
       "           -4.50423453e-03,   5.66340095e-05,  -1.99033357e-02],\n",
       "         [  6.55073076e-02,  -7.06254169e-02,  -1.53657258e-01, ...,\n",
       "            1.30235255e-01,   8.69376361e-02,   2.42815651e-02],\n",
       "         [ -7.11014494e-02,  -2.75687501e-02,   1.21033393e-01, ...,\n",
       "           -2.89451201e-02,   1.96789987e-02,   1.00903390e-02],\n",
       "         ..., \n",
       "         [  3.44070941e-02,  -2.51366980e-02,  -9.23417509e-03, ...,\n",
       "           -5.09619787e-02,  -2.47187372e-02,  -7.04462752e-02],\n",
       "         [  7.02253655e-02,  -2.03017555e-02,  -3.07389181e-02, ...,\n",
       "           -7.84189254e-03,  -1.39540546e-02,  -4.37545702e-02],\n",
       "         [  3.92255969e-02,  -3.50840092e-02,  -2.51787584e-02, ...,\n",
       "           -4.41580899e-02,  -5.66190071e-02,  -1.22710064e-01]]],\n",
       "\n",
       "\n",
       "       [[[ -1.42321307e-02,  -1.97491106e-02,   5.50356060e-02, ...,\n",
       "            7.87260197e-03,  -3.51604586e-03,  -2.52480824e-02],\n",
       "         [ -1.54631399e-02,  -7.77672306e-02,   2.56733924e-01, ...,\n",
       "           -6.11061044e-03,   1.02536473e-02,   8.53572157e-04],\n",
       "         [  2.94134915e-02,  -3.28310400e-01,   5.39742649e-01, ...,\n",
       "           -2.24219918e-01,   7.09716305e-02,   2.52939779e-02],\n",
       "         ..., \n",
       "         [  1.45974562e-01,  -3.51632506e-01,   5.91272078e-02, ...,\n",
       "           -3.48926842e-01,   2.52995621e-02,   1.98447309e-03],\n",
       "         [  8.12309906e-02,  -6.47224113e-02,  -1.46059766e-01, ...,\n",
       "           -1.39248610e-01,  -9.36233345e-03,  -1.89324543e-02],\n",
       "         [  4.13552159e-03,  -8.93001817e-03,  -7.92914927e-02, ...,\n",
       "           -2.61348803e-02,  -3.06709539e-02,  -2.58676317e-02]],\n",
       "\n",
       "        [[ -7.60913827e-03,   2.11999519e-03,   1.10187873e-01, ...,\n",
       "           -3.01422253e-02,  -1.36693418e-02,  -1.88113109e-03],\n",
       "         [ -3.67930122e-02,  -9.87178832e-02,   4.15723652e-01, ...,\n",
       "           -7.29113519e-02,   1.72824208e-02,   2.26274189e-02],\n",
       "         [  8.12750077e-04,  -4.78111207e-01,   7.96610594e-01, ...,\n",
       "           -3.43686253e-01,   5.46455383e-02,   3.57672647e-02],\n",
       "         ..., \n",
       "         [  1.68292180e-01,  -5.84207594e-01,   7.03169629e-02, ...,\n",
       "           -4.82582241e-01,  -1.43991970e-02,   1.56588573e-02],\n",
       "         [  9.60564017e-02,  -1.72557771e-01,  -2.43182629e-01, ...,\n",
       "           -1.75416529e-01,  -3.28841321e-02,  -4.80098324e-03],\n",
       "         [  1.61122624e-02,  -4.34218198e-02,  -1.49436876e-01, ...,\n",
       "           -3.52550321e-03,  -6.93369703e-03,  -1.23099787e-02]],\n",
       "\n",
       "        [[  1.36468029e-02,  -8.38739239e-03,   8.06256682e-02, ...,\n",
       "            4.99282219e-03,   1.33991996e-02,   1.41999987e-03],\n",
       "         [ -1.95951723e-02,  -9.95856076e-02,   3.18030983e-01, ...,\n",
       "           -3.03108916e-02,   3.98781747e-02,   1.30545236e-02],\n",
       "         [  4.40120101e-02,  -3.93230170e-01,   6.19402289e-01, ...,\n",
       "           -2.58068591e-01,   8.21850076e-02,   2.52503809e-02],\n",
       "         ..., \n",
       "         [  2.35354647e-01,  -4.59637403e-01,  -1.41336501e-03, ...,\n",
       "           -3.97412062e-01,   4.18621898e-02,   1.06627047e-02],\n",
       "         [  1.38508394e-01,  -1.17498063e-01,  -2.34853834e-01, ...,\n",
       "           -1.61055639e-01,  -1.81461535e-02,  -5.09813661e-03],\n",
       "         [  2.72709318e-02,  -1.01640122e-02,  -1.43953711e-01, ...,\n",
       "           -4.23845351e-02,  -1.21432217e-02,  -2.24745777e-02]]],\n",
       "\n",
       "\n",
       "       ..., \n",
       "       [[[ -1.02142431e-01,  -8.39707255e-02,  -3.98027822e-02, ...,\n",
       "            5.75623401e-02,   1.61019951e-01,   1.77968219e-01],\n",
       "         [ -6.95518777e-02,  -2.64766049e-02,   5.00598270e-03, ...,\n",
       "            6.29937723e-02,   1.82535246e-01,   1.73853457e-01],\n",
       "         [ -4.59842011e-02,  -3.40651460e-02,   4.55751717e-02, ...,\n",
       "           -4.44387225e-03,  -3.41270976e-02,   9.41982269e-02],\n",
       "         ..., \n",
       "         [ -1.44711963e-03,  -1.53452745e-02,   4.37137559e-02, ...,\n",
       "            9.56848487e-02,  -7.37091377e-02,   1.81757435e-02],\n",
       "         [ -2.51449887e-02,  -2.95776874e-02,  -4.58171964e-02, ...,\n",
       "            7.88465217e-02,   1.02387443e-02,  -1.67661812e-02],\n",
       "         [ -4.29701991e-02,  -4.57766987e-02,  -6.03806376e-02, ...,\n",
       "           -2.91856993e-02,  -7.25012645e-02,  -1.14867225e-01]],\n",
       "\n",
       "        [[  1.95060611e-01,   1.43838793e-01,   8.11033547e-02, ...,\n",
       "           -8.61679167e-02,  -8.84413049e-02,  -9.71511975e-02],\n",
       "         [  1.35602638e-01,   1.02842741e-01,   8.36095884e-02, ...,\n",
       "           -2.65493780e-01,  -2.33883843e-01,  -2.59833783e-01],\n",
       "         [  8.75394866e-02,   8.09320360e-02,   8.64777341e-02, ...,\n",
       "           -4.11664337e-01,  -5.09560645e-01,  -3.16009730e-01],\n",
       "         ..., \n",
       "         [  3.95795517e-02,   1.21966545e-02,   1.28652617e-01, ...,\n",
       "            4.50963378e-02,  -2.38836423e-01,  -6.09036535e-02],\n",
       "         [  3.02845566e-03,   1.90242026e-02,   3.38919573e-02, ...,\n",
       "            1.80224374e-01,   1.19159505e-01,   1.43924177e-01],\n",
       "         [  1.63077191e-02,   9.67507530e-03,   6.26251549e-02, ...,\n",
       "            2.00555503e-01,   2.04146311e-01,   2.44330466e-01]],\n",
       "\n",
       "        [[ -8.55359957e-02,  -5.69156557e-02,  -1.77870300e-02, ...,\n",
       "            2.32284162e-02,  -6.71511963e-02,  -4.84408773e-02],\n",
       "         [ -6.07774965e-02,  -5.33268861e-02,  -4.61305045e-02, ...,\n",
       "            1.57336608e-01,   1.62610367e-01,   2.27960423e-02],\n",
       "         [ -4.09126729e-02,  -8.02506432e-02,  -1.12482287e-01, ...,\n",
       "            3.45538586e-01,   5.18854141e-01,   2.68228799e-01],\n",
       "         ..., \n",
       "         [ -7.70879164e-03,  -5.40374592e-02,  -7.73136467e-02, ...,\n",
       "            5.70831075e-02,   1.47665754e-01,   5.04257120e-02],\n",
       "         [  3.85133103e-02,   3.58467922e-02,  -1.63661409e-02, ...,\n",
       "           -1.21296003e-01,  -1.04843497e-01,  -1.07099786e-01],\n",
       "         [  1.95148960e-02,   1.33857047e-02,  -2.00309567e-02, ...,\n",
       "           -1.00368746e-01,  -1.61363840e-01,  -1.11982115e-01]]],\n",
       "\n",
       "\n",
       "       [[[  1.85253039e-01,   1.04139492e-01,  -3.34790498e-02, ...,\n",
       "           -2.74058163e-01,  -2.58183897e-01,  -9.34593454e-02],\n",
       "         [  1.46412700e-01,   9.39402878e-02,  -2.58140657e-02, ...,\n",
       "           -4.02912885e-01,  -4.38744277e-01,  -2.36833662e-01],\n",
       "         [  1.51929826e-01,   1.69130355e-01,   6.81412444e-02, ...,\n",
       "           -3.80344301e-01,  -4.39794958e-01,  -2.75023580e-01],\n",
       "         ..., \n",
       "         [  1.25802666e-01,   8.39188844e-02,   2.14972973e-01, ...,\n",
       "            9.02239904e-02,  -4.13101315e-02,  -1.90143399e-02],\n",
       "         [  1.32869169e-01,   4.82451469e-02,   7.53146708e-02, ...,\n",
       "            8.68642628e-02,   9.35122594e-02,   7.73459151e-02],\n",
       "         [  2.12509766e-01,   1.55889690e-01,   1.13005199e-01, ...,\n",
       "            3.34963799e-02,   5.05616218e-02,   5.32853603e-02]],\n",
       "\n",
       "        [[ -1.88603133e-01,  -1.19480900e-01,   2.13613659e-02, ...,\n",
       "            3.44873488e-01,   3.62604320e-01,   3.29972535e-01],\n",
       "         [ -1.97881699e-01,  -1.24491967e-01,   9.69767272e-02, ...,\n",
       "            4.32744682e-01,   4.33915704e-01,   3.95128697e-01],\n",
       "         [ -2.32947484e-01,  -1.71399310e-01,   1.77241582e-02, ...,\n",
       "            4.22264725e-01,   4.06397253e-01,   3.62688422e-01],\n",
       "         ..., \n",
       "         [ -3.11774880e-01,  -3.32729608e-01,  -1.39923826e-01, ...,\n",
       "            1.29558697e-01,   1.13496266e-01,   8.45573545e-02],\n",
       "         [ -3.24054092e-01,  -3.81419331e-01,  -2.74465203e-01, ...,\n",
       "           -5.11858352e-02,  -2.33157258e-02,  -1.53270820e-02],\n",
       "         [ -2.91987300e-01,  -3.30342025e-01,  -2.61694402e-01, ...,\n",
       "           -1.74289554e-01,  -1.61363885e-01,  -1.59607083e-01]],\n",
       "\n",
       "        [[  6.73725307e-02,   5.16949333e-02,   4.74246545e-03, ...,\n",
       "           -4.00656275e-02,  -1.14371620e-01,  -2.11012349e-01],\n",
       "         [  5.53623140e-02,   2.66959649e-02,  -3.16719376e-02, ...,\n",
       "           -2.47072596e-02,  -6.89009577e-02,  -1.48620769e-01],\n",
       "         [  5.30319847e-02,  -2.58013252e-02,  -1.37872890e-01, ...,\n",
       "           -1.58080403e-02,  -2.68310998e-02,  -9.99996290e-02],\n",
       "         ..., \n",
       "         [  1.83273315e-01,   1.63023427e-01,   1.94824841e-02, ...,\n",
       "           -1.40923575e-01,  -1.08650878e-01,  -8.08379352e-02],\n",
       "         [  1.80734456e-01,   2.82371730e-01,   2.01807782e-01, ...,\n",
       "            6.19665580e-03,   2.24629026e-02,   1.35305477e-03],\n",
       "         [  7.64837414e-02,   1.59195513e-01,   1.88297093e-01, ...,\n",
       "            8.29043686e-02,   7.41988420e-02,   9.48985443e-02]]],\n",
       "\n",
       "\n",
       "       [[[ -3.08540892e-02,  -5.07921539e-02,  -1.07276887e-01, ...,\n",
       "            2.77187414e-02,   4.99419533e-02,   1.45884808e-02],\n",
       "         [ -3.51573639e-02,  -9.55899805e-02,  -1.20069101e-01, ...,\n",
       "            1.32741317e-01,   9.15555879e-02,   7.52982823e-03],\n",
       "         [ -3.59806493e-02,  -6.73496276e-02,  -8.50878209e-02, ...,\n",
       "            2.37315327e-01,   1.66566968e-01,   8.98831431e-03],\n",
       "         ..., \n",
       "         [ -1.34058669e-02,  -4.82453890e-02,  -1.79834981e-02, ...,\n",
       "            1.45635933e-01,   3.52929905e-02,  -1.20764680e-01],\n",
       "         [  6.24850858e-03,  -3.43879126e-02,  -2.17420748e-03, ...,\n",
       "            2.39457190e-02,  -4.86923046e-02,  -1.57301769e-01],\n",
       "         [ -7.46670971e-03,  -3.60162519e-02,   9.14939621e-04, ...,\n",
       "           -2.39228923e-03,  -9.95502174e-02,  -9.50006917e-02]],\n",
       "\n",
       "        [[  7.37580433e-02,   4.42050211e-02,  -7.53528811e-03, ...,\n",
       "            1.66014694e-02,  -3.39468755e-02,   5.83854783e-03],\n",
       "         [  6.05999194e-02,   1.36438776e-02,  -2.95620598e-03, ...,\n",
       "           -1.62203908e-02,  -7.58258924e-02,  -2.77193207e-02],\n",
       "         [  3.35966572e-02,   2.73840781e-02,   7.10254908e-03, ...,\n",
       "           -1.57071471e-01,  -1.82631865e-01,  -3.01011913e-02],\n",
       "         ..., \n",
       "         [ -1.52304182e-02,  -2.51825321e-02,  -2.89382152e-02, ...,\n",
       "           -1.84224010e-01,   5.78571297e-02,   1.47390589e-01],\n",
       "         [  1.23409806e-02,   1.51281562e-02,   2.52202153e-02, ...,\n",
       "           -4.57994677e-02,   1.71299860e-01,   6.64408505e-02],\n",
       "         [  1.85757093e-02,  -1.02759777e-02,   3.13358307e-02, ...,\n",
       "            4.40951623e-02,   6.74310476e-02,   6.49494454e-02]],\n",
       "\n",
       "        [[ -5.42957010e-03,   4.32650931e-02,   7.19259083e-02, ...,\n",
       "            3.81798483e-02,  -1.30826039e-02,   4.62751798e-02],\n",
       "         [  3.97974588e-02,   7.90148005e-02,   1.74305037e-01, ...,\n",
       "           -2.39293557e-02,  -7.21390545e-02,   3.10228225e-02],\n",
       "         [  6.09820969e-02,   1.58876166e-01,   2.02208102e-01, ...,\n",
       "           -2.86850989e-01,  -2.39534751e-01,  -1.73059052e-05],\n",
       "         ..., \n",
       "         [  1.53221833e-02,   4.55910563e-02,  -2.32790858e-02, ...,\n",
       "           -3.47748220e-01,  -2.19160914e-02,   1.54535338e-01],\n",
       "         [  1.82912275e-02,   5.51572964e-02,  -1.90736651e-02, ...,\n",
       "           -1.30573675e-01,   1.56898007e-01,   1.22841433e-01],\n",
       "         [  1.19799124e-02,  -4.78918198e-03,  -4.22112457e-02, ...,\n",
       "           -1.15579059e-02,   8.16899091e-02,   1.02812193e-01]]]], dtype=float32)"
      ]
     },
     "execution_count": 28,
     "metadata": {},
     "output_type": "execute_result"
    }
   ],
   "source": [
    "net.params['conv1/7x7_s2'][0].data"
   ]
  },
  {
   "cell_type": "code",
   "execution_count": 4,
   "metadata": {},
   "outputs": [],
   "source": [
    "import torch"
   ]
  },
  {
   "cell_type": "code",
   "execution_count": 5,
   "metadata": {},
   "outputs": [],
   "source": [
    "from ILG import ILGNet"
   ]
  },
  {
   "cell_type": "code",
   "execution_count": 6,
   "metadata": {},
   "outputs": [],
   "source": [
    "model=ILGNet()"
   ]
  },
  {
   "cell_type": "code",
   "execution_count": 7,
   "metadata": {},
   "outputs": [],
   "source": [
    "named_params=list(model.named_parameters())"
   ]
  },
  {
   "cell_type": "code",
   "execution_count": 8,
   "metadata": {},
   "outputs": [],
   "source": [
    "from collections import OrderedDict"
   ]
  },
  {
   "cell_type": "code",
   "execution_count": 9,
   "metadata": {},
   "outputs": [],
   "source": [
    "pth_params_dict=OrderedDict(named_params)"
   ]
  },
  {
   "cell_type": "code",
   "execution_count": 10,
   "metadata": {},
   "outputs": [],
   "source": [
    "caffe_params_key=net.params.keys()"
   ]
  },
  {
   "cell_type": "code",
   "execution_count": 11,
   "metadata": {},
   "outputs": [],
   "source": [
    "pth_params_key=pth_params_dict.keys()"
   ]
  },
  {
   "cell_type": "code",
   "execution_count": 13,
   "metadata": {},
   "outputs": [],
   "source": [
    "pth_parames_partial_key=['.'.join(key.split('.')[-2:]) for key in pth_params_dict.keys()]"
   ]
  },
  {
   "cell_type": "code",
   "execution_count": 14,
   "metadata": {},
   "outputs": [],
   "source": [
    "caffe_params_dict=net.params"
   ]
  },
  {
   "cell_type": "code",
   "execution_count": 16,
   "metadata": {},
   "outputs": [
    {
     "data": {
      "text/plain": [
       "['conv1/7x7_s2',\n",
       " 'conv2/3x3_reduce',\n",
       " 'conv2/3x3',\n",
       " 'inception_3a/1x1',\n",
       " 'inception_3a/3x3_reduce',\n",
       " 'inception_3a/3x3',\n",
       " 'inception_3a/5x5_reduce',\n",
       " 'inception_3a/5x5',\n",
       " 'inception_3a/pool_proj',\n",
       " 'temp1',\n",
       " 'inception_3b/1x1',\n",
       " 'inception_3b/3x3_reduce',\n",
       " 'inception_3b/3x3',\n",
       " 'inception_3b/5x5_reduce',\n",
       " 'inception_3b/5x5',\n",
       " 'inception_3b/pool_proj',\n",
       " 'temp2',\n",
       " 'inception_4a/1x1',\n",
       " 'inception_4a/3x3_reduce',\n",
       " 'inception_4a/3x3',\n",
       " 'inception_4a/5x5_reduce',\n",
       " 'inception_4a/5x5',\n",
       " 'inception_4a/pool_proj',\n",
       " 'loss1/conv',\n",
       " 'temp3',\n",
       " 'temp_cjy',\n",
       " 'loss1/classifier_cjy']"
      ]
     },
     "execution_count": 16,
     "metadata": {},
     "output_type": "execute_result"
    }
   ],
   "source": [
    "caffe_params_key"
   ]
  },
  {
   "cell_type": "code",
   "execution_count": 17,
   "metadata": {},
   "outputs": [
    {
     "data": {
      "text/plain": [
       "['feature.conv1/7x7_s2.weight',\n",
       " 'feature.conv1/7x7_s2.bias',\n",
       " 'feature.conv2/3x3_reduce.weight',\n",
       " 'feature.conv2/3x3_reduce.bias',\n",
       " 'feature.conv2/3x3.weight',\n",
       " 'feature.conv2/3x3.bias',\n",
       " 'inception_3a.conv1x1.inception_3a/1x1.weight',\n",
       " 'inception_3a.conv1x1.inception_3a/1x1.bias',\n",
       " 'inception_3a.conv3x3_reduce.inception_3a/3x3_reduce.weight',\n",
       " 'inception_3a.conv3x3_reduce.inception_3a/3x3_reduce.bias',\n",
       " 'inception_3a.conv3x3.inception_3a/3x3.weight',\n",
       " 'inception_3a.conv3x3.inception_3a/3x3.bias',\n",
       " 'inception_3a.conv5x5_reduce.inception_3a/5x5_reduce.weight',\n",
       " 'inception_3a.conv5x5_reduce.inception_3a/5x5_reduce.bias',\n",
       " 'inception_3a.conv5x5.inception_3a/5x5.weight',\n",
       " 'inception_3a.conv5x5.inception_3a/5x5.bias',\n",
       " 'inception_3a.pool_proj.inception_3a/pool_proj.weight',\n",
       " 'inception_3a.pool_proj.inception_3a/pool_proj.bias',\n",
       " 'inception_3b.conv1x1.inception_3b/1x1.weight',\n",
       " 'inception_3b.conv1x1.inception_3b/1x1.bias',\n",
       " 'inception_3b.conv3x3_reduce.inception_3b/3x3_reduce.weight',\n",
       " 'inception_3b.conv3x3_reduce.inception_3b/3x3_reduce.bias',\n",
       " 'inception_3b.conv3x3.inception_3b/3x3.weight',\n",
       " 'inception_3b.conv3x3.inception_3b/3x3.bias',\n",
       " 'inception_3b.conv5x5_reduce.inception_3b/5x5_reduce.weight',\n",
       " 'inception_3b.conv5x5_reduce.inception_3b/5x5_reduce.bias',\n",
       " 'inception_3b.conv5x5.inception_3b/5x5.weight',\n",
       " 'inception_3b.conv5x5.inception_3b/5x5.bias',\n",
       " 'inception_3b.pool_proj.inception_3b/pool_proj.weight',\n",
       " 'inception_3b.pool_proj.inception_3b/pool_proj.bias',\n",
       " 'inception_4a.conv1x1.inception_4a/1x1.weight',\n",
       " 'inception_4a.conv1x1.inception_4a/1x1.bias',\n",
       " 'inception_4a.conv3x3_reduce.inception_4a/3x3_reduce.weight',\n",
       " 'inception_4a.conv3x3_reduce.inception_4a/3x3_reduce.bias',\n",
       " 'inception_4a.conv3x3.inception_4a/3x3.weight',\n",
       " 'inception_4a.conv3x3.inception_4a/3x3.bias',\n",
       " 'inception_4a.conv5x5_reduce.inception_4a/5x5_reduce.weight',\n",
       " 'inception_4a.conv5x5_reduce.inception_4a/5x5_reduce.bias',\n",
       " 'inception_4a.conv5x5.inception_4a/5x5.weight',\n",
       " 'inception_4a.conv5x5.inception_4a/5x5.bias',\n",
       " 'inception_4a.pool_proj.inception_4a/pool_proj.weight',\n",
       " 'inception_4a.pool_proj.inception_4a/pool_proj.bias',\n",
       " 'loss1_conv.loss1/conv.weight',\n",
       " 'loss1_conv.loss1/conv.bias',\n",
       " 'temp1.temp1.weight',\n",
       " 'temp1.temp1.bias',\n",
       " 'temp2.temp2.weight',\n",
       " 'temp2.temp2.bias',\n",
       " 'temp3.temp3.weight',\n",
       " 'temp3.temp3.bias',\n",
       " 'temp_cjy.temp_cjy.weight',\n",
       " 'temp_cjy.temp_cjy.bias',\n",
       " 'classifier.loss1/classifier_cjy.weight',\n",
       " 'classifier.loss1/classifier_cjy.bias']"
      ]
     },
     "execution_count": 17,
     "metadata": {},
     "output_type": "execute_result"
    }
   ],
   "source": [
    "pth_params_key"
   ]
  },
  {
   "cell_type": "code",
   "execution_count": 18,
   "metadata": {},
   "outputs": [],
   "source": [
    "kik=pth_params_dict['feature.conv1/7x7_s2.bias']"
   ]
  },
  {
   "cell_type": "code",
   "execution_count": 19,
   "metadata": {},
   "outputs": [],
   "source": [
    "pth_params_dict['feature.conv1/7x7_s2.bias'].data=torch.from_numpy(caffe_params_dict['conv1/7x7_s2'][1].data)"
   ]
  },
  {
   "cell_type": "code",
   "execution_count": 20,
   "metadata": {},
   "outputs": [],
   "source": [
    "a=\"\""
   ]
  },
  {
   "cell_type": "code",
   "execution_count": 21,
   "metadata": {},
   "outputs": [
    {
     "data": {
      "text/plain": [
       "<function endswith>"
      ]
     },
     "execution_count": 21,
     "metadata": {},
     "output_type": "execute_result"
    }
   ],
   "source": [
    "a.endswith"
   ]
  },
  {
   "cell_type": "code",
   "execution_count": 22,
   "metadata": {},
   "outputs": [
    {
     "data": {
      "text/plain": [
       "u'/workspace'"
      ]
     },
     "execution_count": 22,
     "metadata": {},
     "output_type": "execute_result"
    }
   ],
   "source": [
    "%pwd"
   ]
  },
  {
   "cell_type": "code",
   "execution_count": 23,
   "metadata": {},
   "outputs": [
    {
     "name": "stdout",
     "output_type": "stream",
     "text": [
      "('feature.conv1/7x7_s2.weight', ' ', 'conv1/7x7_s2')\n",
      "('feature.conv1/7x7_s2.bias', ' ', 'conv1/7x7_s2')\n",
      "('feature.conv2/3x3_reduce.weight', ' ', 'conv2/3x3_reduce')\n",
      "('feature.conv2/3x3_reduce.bias', ' ', 'conv2/3x3_reduce')\n",
      "('feature.conv2/3x3.weight', ' ', 'conv2/3x3')\n",
      "('feature.conv2/3x3.bias', ' ', 'conv2/3x3')\n",
      "('inception_3a.conv1x1.inception_3a/1x1.weight', ' ', 'inception_3a/1x1')\n",
      "('inception_3a.conv1x1.inception_3a/1x1.bias', ' ', 'inception_3a/1x1')\n",
      "('inception_3a.conv3x3_reduce.inception_3a/3x3_reduce.weight', ' ', 'inception_3a/3x3_reduce')\n",
      "('inception_3a.conv3x3_reduce.inception_3a/3x3_reduce.bias', ' ', 'inception_3a/3x3_reduce')\n",
      "('inception_3a.conv3x3.inception_3a/3x3.weight', ' ', 'inception_3a/3x3')\n",
      "('inception_3a.conv3x3.inception_3a/3x3.bias', ' ', 'inception_3a/3x3')\n",
      "('inception_3a.conv5x5_reduce.inception_3a/5x5_reduce.weight', ' ', 'inception_3a/5x5_reduce')\n",
      "('inception_3a.conv5x5_reduce.inception_3a/5x5_reduce.bias', ' ', 'inception_3a/5x5_reduce')\n",
      "('inception_3a.conv5x5.inception_3a/5x5.weight', ' ', 'inception_3a/5x5')\n",
      "('inception_3a.conv5x5.inception_3a/5x5.bias', ' ', 'inception_3a/5x5')\n",
      "('inception_3a.pool_proj.inception_3a/pool_proj.weight', ' ', 'inception_3a/pool_proj')\n",
      "('inception_3a.pool_proj.inception_3a/pool_proj.bias', ' ', 'inception_3a/pool_proj')\n",
      "('inception_3b.conv1x1.inception_3b/1x1.weight', ' ', 'inception_3b/1x1')\n",
      "('inception_3b.conv1x1.inception_3b/1x1.bias', ' ', 'inception_3b/1x1')\n",
      "('inception_3b.conv3x3_reduce.inception_3b/3x3_reduce.weight', ' ', 'inception_3b/3x3_reduce')\n",
      "('inception_3b.conv3x3_reduce.inception_3b/3x3_reduce.bias', ' ', 'inception_3b/3x3_reduce')\n",
      "('inception_3b.conv3x3.inception_3b/3x3.weight', ' ', 'inception_3b/3x3')\n",
      "('inception_3b.conv3x3.inception_3b/3x3.bias', ' ', 'inception_3b/3x3')\n",
      "('inception_3b.conv5x5_reduce.inception_3b/5x5_reduce.weight', ' ', 'inception_3b/5x5_reduce')\n",
      "('inception_3b.conv5x5_reduce.inception_3b/5x5_reduce.bias', ' ', 'inception_3b/5x5_reduce')\n",
      "('inception_3b.conv5x5.inception_3b/5x5.weight', ' ', 'inception_3b/5x5')\n",
      "('inception_3b.conv5x5.inception_3b/5x5.bias', ' ', 'inception_3b/5x5')\n",
      "('inception_3b.pool_proj.inception_3b/pool_proj.weight', ' ', 'inception_3b/pool_proj')\n",
      "('inception_3b.pool_proj.inception_3b/pool_proj.bias', ' ', 'inception_3b/pool_proj')\n",
      "('inception_4a.conv1x1.inception_4a/1x1.weight', ' ', 'inception_4a/1x1')\n",
      "('inception_4a.conv1x1.inception_4a/1x1.bias', ' ', 'inception_4a/1x1')\n",
      "('inception_4a.conv3x3_reduce.inception_4a/3x3_reduce.weight', ' ', 'inception_4a/3x3_reduce')\n",
      "('inception_4a.conv3x3_reduce.inception_4a/3x3_reduce.bias', ' ', 'inception_4a/3x3_reduce')\n",
      "('inception_4a.conv3x3.inception_4a/3x3.weight', ' ', 'inception_4a/3x3')\n",
      "('inception_4a.conv3x3.inception_4a/3x3.bias', ' ', 'inception_4a/3x3')\n",
      "('inception_4a.conv5x5_reduce.inception_4a/5x5_reduce.weight', ' ', 'inception_4a/5x5_reduce')\n",
      "('inception_4a.conv5x5_reduce.inception_4a/5x5_reduce.bias', ' ', 'inception_4a/5x5_reduce')\n",
      "('inception_4a.conv5x5.inception_4a/5x5.weight', ' ', 'inception_4a/5x5')\n",
      "('inception_4a.conv5x5.inception_4a/5x5.bias', ' ', 'inception_4a/5x5')\n",
      "('inception_4a.pool_proj.inception_4a/pool_proj.weight', ' ', 'inception_4a/pool_proj')\n",
      "('inception_4a.pool_proj.inception_4a/pool_proj.bias', ' ', 'inception_4a/pool_proj')\n",
      "('loss1_conv.loss1/conv.weight', ' ', 'loss1/conv')\n",
      "('loss1_conv.loss1/conv.bias', ' ', 'loss1/conv')\n",
      "('temp1.temp1.weight', ' ', 'temp1')\n",
      "('temp1.temp1.bias', ' ', 'temp1')\n",
      "('temp2.temp2.weight', ' ', 'temp2')\n",
      "('temp2.temp2.bias', ' ', 'temp2')\n",
      "('temp3.temp3.weight', ' ', 'temp3')\n",
      "('temp3.temp3.bias', ' ', 'temp3')\n",
      "('temp_cjy.temp_cjy.weight', ' ', 'temp_cjy')\n",
      "('temp_cjy.temp_cjy.bias', ' ', 'temp_cjy')\n",
      "('classifier.loss1/classifier_cjy.weight', ' ', 'loss1/classifier_cjy')\n",
      "('classifier.loss1/classifier_cjy.bias', ' ', 'loss1/classifier_cjy')\n"
     ]
    }
   ],
   "source": [
    "for name,param in model.named_parameters():\n",
    "    caffe_name=name.split('.')[-2]\n",
    "    print(name,' ',caffe_name)\n",
    "    if name.endswith(\"bias\"):\n",
    "        param.data=torch.from_numpy(caffe_params_dict[caffe_name][1].data)\n",
    "    elif name.endswith(\"weight\"):\n",
    "        param.data=torch.from_numpy(caffe_params_dict[caffe_name][0].data)\n",
    "    else:\n",
    "        print('wrong')\n",
    "        print(name)"
   ]
  },
  {
   "cell_type": "code",
   "execution_count": 24,
   "metadata": {},
   "outputs": [],
   "source": [
    "torch.save(model.state_dict(),'ILGNet2_pytorch.pth')"
   ]
  },
  {
   "cell_type": "code",
   "execution_count": 25,
   "metadata": {},
   "outputs": [],
   "source": [
    "torch.save(model,\"ILGNet2_pytorch_w_graph.pth\")"
   ]
  },
  {
   "cell_type": "code",
   "execution_count": 73,
   "metadata": {},
   "outputs": [
    {
     "data": {
      "text/plain": [
       "{'conv1/7x7_s2.bias',\n",
       " 'conv1/7x7_s2.weight',\n",
       " 'conv2/3x3.bias',\n",
       " 'conv2/3x3.weight',\n",
       " 'conv2/3x3_reduce.bias',\n",
       " 'conv2/3x3_reduce.weight',\n",
       " 'inception_3a/1x1.bias',\n",
       " 'inception_3a/1x1.weight',\n",
       " 'inception_3a/3x3.bias',\n",
       " 'inception_3a/3x3.weight',\n",
       " 'inception_3a/3x3_reduce.bias',\n",
       " 'inception_3a/3x3_reduce.weight',\n",
       " 'inception_3a/5x5.bias',\n",
       " 'inception_3a/5x5.weight',\n",
       " 'inception_3a/5x5_reduce.bias',\n",
       " 'inception_3a/5x5_reduce.weight',\n",
       " 'inception_3a/pool_proj.bias',\n",
       " 'inception_3a/pool_proj.weight',\n",
       " 'inception_3b/1x1.bias',\n",
       " 'inception_3b/1x1.weight',\n",
       " 'inception_3b/3x3.bias',\n",
       " 'inception_3b/3x3.weight',\n",
       " 'inception_3b/3x3_reduce.bias',\n",
       " 'inception_3b/3x3_reduce.weight',\n",
       " 'inception_3b/5x5.bias',\n",
       " 'inception_3b/5x5.weight',\n",
       " 'inception_3b/5x5_reduce.bias',\n",
       " 'inception_3b/5x5_reduce.weight',\n",
       " 'inception_3b/pool_proj.bias',\n",
       " 'inception_3b/pool_proj.weight',\n",
       " 'inception_4a/1x1.bias',\n",
       " 'inception_4a/1x1.weight',\n",
       " 'inception_4a/3x3.bias',\n",
       " 'inception_4a/3x3.weight',\n",
       " 'inception_4a/3x3_reduce.bias',\n",
       " 'inception_4a/3x3_reduce.weight',\n",
       " 'inception_4a/5x5.bias',\n",
       " 'inception_4a/5x5.weight',\n",
       " 'inception_4a/5x5_reduce.bias',\n",
       " 'inception_4a/5x5_reduce.weight',\n",
       " 'inception_4a/pool_proj.bias',\n",
       " 'inception_4a/pool_proj.weight',\n",
       " 'loss1/classifier_cjy.bias',\n",
       " 'loss1/classifier_cjy.weight',\n",
       " 'loss1/conv.bias',\n",
       " 'loss1/conv.weight',\n",
       " 'temp1.bias',\n",
       " 'temp1.weight',\n",
       " 'temp2.bias',\n",
       " 'temp2.weight',\n",
       " 'temp3.bias',\n",
       " 'temp3.weight',\n",
       " 'temp_cjy.bias',\n",
       " 'temp_cjy.weight'}"
      ]
     },
     "execution_count": 73,
     "metadata": {},
     "output_type": "execute_result"
    }
   ],
   "source": [
    "aaa"
   ]
  },
  {
   "cell_type": "code",
   "execution_count": 26,
   "metadata": {},
   "outputs": [
    {
     "data": {
      "text/plain": [
       "u'/workspace'"
      ]
     },
     "execution_count": 26,
     "metadata": {},
     "output_type": "execute_result"
    }
   ],
   "source": [
    "%pwd"
   ]
  },
  {
   "cell_type": "code",
   "execution_count": null,
   "metadata": {},
   "outputs": [],
   "source": []
  }
 ],
 "metadata": {
  "kernelspec": {
   "display_name": "Python 2",
   "language": "python",
   "name": "python2"
  },
  "language_info": {
   "codemirror_mode": {
    "name": "ipython",
    "version": 2
   },
   "file_extension": ".py",
   "mimetype": "text/x-python",
   "name": "python",
   "nbconvert_exporter": "python",
   "pygments_lexer": "ipython2",
   "version": "2.7.12"
  }
 },
 "nbformat": 4,
 "nbformat_minor": 2
}
